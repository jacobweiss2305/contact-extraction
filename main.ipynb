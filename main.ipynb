{
 "cells": [
  {
   "cell_type": "code",
   "execution_count": 31,
   "metadata": {},
   "outputs": [
    {
     "data": {
      "text/plain": [
       "True"
      ]
     },
     "execution_count": 31,
     "metadata": {},
     "output_type": "execute_result"
    }
   ],
   "source": [
    "from dotenv import load_dotenv\n",
    "\n",
    "load_dotenv()"
   ]
  },
  {
   "cell_type": "code",
   "execution_count": 32,
   "metadata": {},
   "outputs": [],
   "source": [
    "from typing import List, Optional\n",
    "\n",
    "from langchain.callbacks import get_openai_callback\n",
    "from langchain.chat_models import ChatOpenAI\n",
    "\n",
    "from kor.extraction import create_extraction_chain\n",
    "from kor.nodes import Object, Text, Number\n",
    "\n",
    "import pandas as pd\n",
    "from pydantic import BaseModel, Field, validator\n",
    "from kor import extract_from_documents, from_pydantic, create_extraction_chain\n",
    "\n",
    "\n",
    "from langchain.schema import Document\n",
    "from langchain.text_splitter import RecursiveCharacterTextSplitter\n",
    "\n",
    "from utils import load_conversation"
   ]
  },
  {
   "cell_type": "code",
   "execution_count": 33,
   "metadata": {},
   "outputs": [],
   "source": [
    "llm = ChatOpenAI(\n",
    "    model_name=\"gpt-3.5-turbo\",\n",
    "    temperature=0,\n",
    ")"
   ]
  },
  {
   "cell_type": "code",
   "execution_count": 34,
   "metadata": {},
   "outputs": [],
   "source": [
    "conversation = load_conversation('/workspaces/contact-extraction/emails/sample_4.txt')\n",
    "doc = Document(page_content=conversation)\n",
    "split_docs = RecursiveCharacterTextSplitter().split_documents([doc])"
   ]
  },
  {
   "cell_type": "code",
   "execution_count": 35,
   "metadata": {},
   "outputs": [],
   "source": [
    "schema = Object(\n",
    "    id=\"personal_info\",\n",
    "    description=\"Personal information about a given person.\",\n",
    "    attributes=[\n",
    "        Text(\n",
    "            id=\"first_name\",\n",
    "            description=\"The first name of the person\",\n",
    "            examples=[(\"John Smith went to the store\", \"John\")],\n",
    "        ),\n",
    "        Text(\n",
    "            id=\"last_name\",\n",
    "            description=\"The last name of the person\",\n",
    "            examples=[(\"John Smith went to the store\", \"Smith\")],\n",
    "        ),\n",
    "        Text(\n",
    "            id=\"job_title\",\n",
    "            description=\"The job title of the person\",\n",
    "            examples=[(\"John Smith is a sales associate at a local store\", \"sales associate\")],\n",
    "        ),\n",
    "        Text(\n",
    "            id=\"company_name\",\n",
    "            description=\"The company name the person works for\",\n",
    "            examples=[(\"John Smith is a sales associate at a walmart\", \"walmart\")],\n",
    "        ),\n",
    "        Text(\n",
    "            id=\"phone_number\",\n",
    "            description=\"The phone number of the person\",\n",
    "            examples=[(\"John Smith is a sales associate and his phone number is 719-239-0231\", \"719-239-0231\")],\n",
    "        ),\n",
    "        Text(\n",
    "            id=\"email\",\n",
    "            description=\"The email of the person\",\n",
    "            examples=[(\"John Smith is a sales associate and his email is john.smith@email.com\", \"john.smith@email.com\")],\n",
    "        ),\n",
    "        Text(\n",
    "            id=\"address\",\n",
    "            description=\"The address of the company the person works for\",\n",
    "            examples=[(\"John Smith works at Data Axle 123 located at Main St, New York, NY 10001\", \"john.smith@email.com\")],\n",
    "        )        \n",
    "    ],\n",
    "    examples=[\n",
    "        (\n",
    "            \"\"\"\n",
    "              John Smith\n",
    "              Senior Sales & Marketing Director\n",
    "              \n",
    "              719-239-0231\n",
    "              john.smith@email.com\n",
    "\n",
    "              Data Axle\n",
    "              123 Main St, New York, NY 10001\n",
    "            \n",
    "              Jane Doe\n",
    "              Sales Executive\n",
    "              \n",
    "              719-239-9999\n",
    "              jane.doe@email.com\n",
    "\n",
    "              KPMG\n",
    "              123 Main St, San Franciso, CA 90909\n",
    "            \"\"\",\n",
    "            [\n",
    "                {\n",
    "                    \"first_name\": \"John\", \n",
    "                    \"last_name\": \"Smith\", \n",
    "                    \"job_title\": \"Senior Sales & Marketing Director\",\n",
    "                    \"company_name\": \"Data Axle\",\n",
    "                    \"phone_number\": \"719-239-0231\",\n",
    "                    \"email\": \"john.smith@email.com\",\n",
    "                    \"address\": \"123 Main St, New York, NY 10001\"\n",
    "                },\n",
    "                {\n",
    "                    \"first_name\": \"Jane\", \n",
    "                    \"last_name\": \"Doe\", \n",
    "                    \"job_title\": \"Sales Executive\",\n",
    "                    \"company_name\": \"KPMG\",\n",
    "                    \"phone_number\": \"719-239-9999\",\n",
    "                    \"email\": \"jane.doe@email.com\",\n",
    "                    \"address\": \"123 Main St, San Franciso, CA 90909\"                    \n",
    "                },\n",
    "            ],\n",
    "        )\n",
    "    ],\n",
    "    many=True,\n",
    ")\n"
   ]
  },
  {
   "cell_type": "code",
   "execution_count": 36,
   "metadata": {},
   "outputs": [],
   "source": [
    "chain = create_extraction_chain(\n",
    "    llm,\n",
    "    schema,\n",
    "    encoder_or_encoder_class=\"csv\",\n",
    "    input_formatter=\"triple_quotes\",\n",
    ")"
   ]
  },
  {
   "cell_type": "code",
   "execution_count": 37,
   "metadata": {},
   "outputs": [
    {
     "name": "stdout",
     "output_type": "stream",
     "text": [
      "Total Tokens: 7087\n",
      "Prompt Tokens: 6511\n",
      "Completion Tokens: 576\n",
      "Successful Requests: 4\n",
      "Total Cost (USD): $0.0109185\n"
     ]
    }
   ],
   "source": [
    "with get_openai_callback() as cb:\n",
    "    document_extraction_results = await extract_from_documents(\n",
    "        chain, split_docs, max_concurrency=5, use_uid=False, return_exceptions=True\n",
    "    )\n",
    "    print(f\"Total Tokens: {cb.total_tokens}\")\n",
    "    print(f\"Prompt Tokens: {cb.prompt_tokens}\")\n",
    "    print(f\"Completion Tokens: {cb.completion_tokens}\")\n",
    "    print(f\"Successful Requests: {cb.successful_requests}\")\n",
    "    print(f\"Total Cost (USD): ${cb.total_cost}\")"
   ]
  },
  {
   "cell_type": "code",
   "execution_count": null,
   "metadata": {},
   "outputs": [],
   "source": [
    "import pandas as pd\n",
    "\n",
    "def generate_dataframe(json_data):\n",
    "    # Prepare an empty list to store all restaurant data\n",
    "    data = []\n",
    "\n",
    "    for record in json_data:\n",
    "        restaurant_list = record.get('data', {}).get('personal_info', [])\n",
    "        for restaurant in restaurant_list:\n",
    "            # Get details for each restaurant and append it to data\n",
    "            data.append([\n",
    "                restaurant.get('first_name', ''),\n",
    "                restaurant.get('last_name', ''),\n",
    "                restaurant.get('job_title', ''),\n",
    "                restaurant.get('company_name', ''),\n",
    "                restaurant.get('phone_number', ''),\n",
    "                restaurant.get('email', ''),\n",
    "                restaurant.get('address', ''),\n",
    "\n",
    "            ])\n",
    "\n",
    "    # Convert the list into a DataFrame\n",
    "    df = pd.DataFrame(data, columns=['first_name', 'last_name', 'job_title', 'company_name', 'phone_number', 'email', 'address'])\n",
    "\n",
    "    return df\n",
    "\n",
    "# Usage:\n",
    "df = generate_dataframe(document_extraction_results)\n",
    "\n",
    "df"
   ]
  },
  {
   "cell_type": "code",
   "execution_count": null,
   "metadata": {},
   "outputs": [],
   "source": []
  }
 ],
 "metadata": {
  "kernelspec": {
   "display_name": "Python 3",
   "language": "python",
   "name": "python3"
  },
  "language_info": {
   "codemirror_mode": {
    "name": "ipython",
    "version": 3
   },
   "file_extension": ".py",
   "mimetype": "text/x-python",
   "name": "python",
   "nbconvert_exporter": "python",
   "pygments_lexer": "ipython3",
   "version": "3.10.12"
  },
  "orig_nbformat": 4
 },
 "nbformat": 4,
 "nbformat_minor": 2
}
