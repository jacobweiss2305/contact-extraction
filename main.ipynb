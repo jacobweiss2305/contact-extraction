{
 "cells": [
  {
   "cell_type": "code",
   "execution_count": 2,
   "metadata": {},
   "outputs": [
    {
     "ename": "ModuleNotFoundError",
     "evalue": "No module named 'dotenv'",
     "output_type": "error",
     "traceback": [
      "\u001b[1;31m---------------------------------------------------------------------------\u001b[0m",
      "\u001b[1;31mModuleNotFoundError\u001b[0m                       Traceback (most recent call last)",
      "Cell \u001b[1;32mIn[2], line 1\u001b[0m\n\u001b[1;32m----> 1\u001b[0m \u001b[39mfrom\u001b[39;00m \u001b[39mutils\u001b[39;00m \u001b[39mimport\u001b[39;00m qa, ask_gpt\n",
      "File \u001b[1;32mc:\\Users\\jweiss\\contact-extraction\\utils.py:1\u001b[0m\n\u001b[1;32m----> 1\u001b[0m \u001b[39mfrom\u001b[39;00m \u001b[39mdotenv\u001b[39;00m \u001b[39mimport\u001b[39;00m load_dotenv\n\u001b[0;32m      3\u001b[0m load_dotenv()\n\u001b[0;32m      5\u001b[0m \u001b[39mimport\u001b[39;00m \u001b[39mos\u001b[39;00m\n",
      "\u001b[1;31mModuleNotFoundError\u001b[0m: No module named 'dotenv'"
     ]
    }
   ],
   "source": [
    "from utils import qa, ask_gpt"
   ]
  },
  {
   "cell_type": "code",
   "execution_count": null,
   "metadata": {},
   "outputs": [
    {
     "data": {
      "text/plain": [
       "\"\\n\\nExtract the all contact information from the email.\\n\\nIts okay to find multiple contacts.\\n\\nFormat your response in this dict:\\n\\ndict(first_name=[...], last_name=[...], phone=[...], email=[...], company=[...], job_title=[...], address=[...], website=[...],)\\n\\nmake sure that the dict lists are in the same order. If a value is not present then put 'none' in its place.\\n\\nHere is the email: Hey guys,\\nThis email was sent from a firm who had requested a custom report built in LMS starting back 3 years ago. It looks like someone on our end was getting close to finishing it for them but we never published it. Can you take a look at the information they provide and see if there is anything we can look into to perhaps find the work that was done? Let me know if you have any questions, we can also jump on a call if need be, thanks.\\n________________________________________\\nFrom: Estrada, Eryka J. <Estrada@thsh.com>\\nSent: Wednesday, June 21, 2023 9:14 AM\\nTo: Edward Bermudez <ebermudez@surepoint.com>\\nCc: Irizarry, Eric <Irizarry@thsh.com>\\nSubject: RE: Report Data \\n \\n***CAUTION:This email originated from outside SurePoint. Please exercise extreme caution with opening any attachments or links***\\nHi Edward, please see the attached email which also contains the True Realization report. This report is currently our main focus (over 3 years) to get on the dashboard. We know it’s possible for Zach Brenner showed it to us on our last Zoom call but he left SurePoint before he can do final touches.\\n \\n \\nKind regards,\\n \\nEryka J. Estrada | Accounting Manager\\nTannenbaum Helpern Syracuse & Hirschtritt LLP\\n900 Third Avenue | New York, NY 10022\\nPronouns: She/Her | estrada@thsh.com | (212) 508-6727\\n \\nwww.thsh.com | Follow THSH: LinkedIn, @THSHLAW, and Instagram \\n \\n \\n \\nNotice: This message, and any attached file, is intended only for the use of the addressee(s) and may contain information that is privileged and confidential.  If you are not the intended recipient, you are hereby notified that any dissemination or copying of this communication is strictly prohibited.  If you have received this communication in error, please notify us immediately by reply e-mail and delete all copies of the original message.  Thank you.\\n \\nFrom: Estrada, Eryka J. <Estrada@thsh.com> \\nSent: Thursday, June 15, 2023 5:56 PM\\nTo: Irizarry, Eric <Irizarry@thsh.com>\\nSubject: FW: Report Data\\n \\nFYI… you want to send the true realization dashboard emails and the custom report where the data is pulling from?\\n \\nFrom: Edward Bermudez <ebermudez@surepoint.com> \\nSent: Thursday, June 15, 2023 3:19 PM\\nTo: Sharinna Luna <sluna@tarterkrinsky.com>; Carolyn Alcantara <calcantara@tarterkrinsky.com>; Estrada, Eryka J. <Estrada@thsh.com>\\nSubject: Re: Report Data\\n \\nHi Sharinna,\\nHope all is well. I wanted to follow up with you and your team to see if you are able to provide us with some of the items that we talked about during our call we had about customized reports and targets in LMS\\n \\n1.\\tLMS targets, do you have a sample or questions around which report targets you are looking at so we can research where the data is coming from?\\n2.\\tAny old documentation or emails on customized reports that we were building for you but were not delivered. We'd like to see if we can try to find something for you here\\nWe'd also like to keep you in the loop on report initiatives we have and have you be apart of user feedback in new ideas and buildouts we have. I will reach out to you when we are ready for this, right now our focus is building out our new BI tool integration with LMS.\\n \\nThank you!\\n________________________________________\\nFrom: Sharinna Luna <sluna@tarterkrinsky.com>\\nSent: Thursday, June 1, 2023 2:28 PM\\nTo: Edward Bermudez <ebermudez@surepoint.com>; Carolyn Alcantara <calcantara@tarterkrinsky.com>; Estrada, Eryka J. <estrada@thsh.com>\\nSubject: RE: Report Data \\n \\n***CAUTION:This email originated from outside SurePoint. Please exercise extreme caution with opening any attachments or links***\\n \\nHi Edward, \\n \\nThank you for reaching out. I cc’ed Carolyn and Eryka whom I would also like to attend. We are all actively working to get the dashboards up and running. \\n \\nTomorrow, I can do 9am-11am . Next week, Monday is open, Wednesday afternoon after 12:30 works for me or Thursday between 9am-11:30am. @Estrada, Eryka J. & @Carolyn Alcantara please let us know your availability. \\n \\nThank you, \\n \\nSharinna Luna \\n \\n \\n\\n\\tSharinna Luna\\n|\\n\\tController\\n\\n\\tT: 212-216-1192\\n|\\n\\tF: 212-216-8001\\n\\n\\n\\tsluna@tarterkrinsky.com\\n\\n\\t\\n\\tTarter Krinsky & Drogin LLP\\n1350 Broadway\\t|\\n\\tNew York\\t|\\n\\tNY\\t|\\n\\t10018\\n\\nwww.tarterkrinsky.com\\n\\n\\n\\n \\tCrain's\\n 2022 best places to work in NYC\\n\\n\\n\\nFrom: Edward Bermudez <ebermudez@surepoint.com> \\nSent: Thursday, June 1, 2023 5:09 PM\\nTo: Sharinna Luna <sluna@tarterkrinsky.com>\\nCc: Laurence Winters <lwinters@surepoint.com>\\nSubject: [EXT] Report Data\\n \\nHello Sharinna,\\nMy name is Eddie and I am a product manager at SurePoint. I am reaching out to you to setup a call to hopefully review the reporting concerns that you have with our platform. I'd like to also include members from our tech team to better understand the requirements. We'd like to setup a call for tomorrow or early next week if possible. Please let me know if this works for you and any dates/times that work,\\nThank you.\\nThe content of this email is confidential and intended for the recipient specified in the message only. It is strictly forbidden to share any part of this message with any third party, without a written consent of the sender. If you received this message by mistake, please reply to this message and follow with its deletion, so that we can ensure such a mistake does not occur in the future. \\n \\n \\n \\n________________________________________\\n\\n\\nTarter Krinsky & Drogin is fully operational in-person. However, because of anticipated delays in receiving regular mail and other deliveries, please e-mail copies of anything you send by regular mail or delivery, including issuing remittances electronically. Please contact our receptionist at reception@tarterkrinsky.com or by phone at 212-216-8000 with any questions. Thank you in advance for your courtesies. \\n\\nNOTE: If regular mailing or other specific transmission type is required by terms of a contract, order or statute, please comply with those obligations and transmit the materials by the means set forth in the agreement, order or statute as well as by email. \\n\\nConfidentiality Disclosure: This information in this email and in attachments is confidential and intended solely for the attention and use of the named (addressee(s). This information may be subject to attorney/client privilege or may otherwise be protected by work product privilege or other legal rules. It must not be disclosed to any person without our authority. If you are not the intended recipient, or a person responsible for delivering it to the intended recipient, you are not authorized to disclose, and must not disclose, copy, distribute, or retain this message or any part of it.\\n\\nThis email is an informal communication that is not meant to be legally binding upon the sender unless expressly noted to the contrary.\\n\\nTarter Krinsky & Drogin LLP, Attorneys-at-Law.\\nThe content of this email is confidential and intended for the recipient specified in the message only. It is strictly forbidden to share any part of this message with any third party, without a written consent of the sender. If you received this message by mistake, please reply to this message and follow with its deletion, so that we can ensure such a mistake does not occur in the future. \\n\\n\\n\""
      ]
     },
     "execution_count": 6,
     "metadata": {},
     "output_type": "execute_result"
    }
   ],
   "source": [
    "path = '/workspaces/contact-extraction/emails/sample_2.txt'\n",
    "\n",
    "with open(path, 'r') as f:\n",
    "    email = f.read()\n",
    "\n",
    "prompt = f\"\"\"\n",
    "\n",
    "Extract the all contact information from the email.\n",
    "\n",
    "Its okay to find multiple contacts.\n",
    "\n",
    "Format your response in this dict:\n",
    "\n",
    "dict(first_name=[...], last_name=[...], phone=[...], email=[...], company=[...], job_title=[...], address=[...], website=[...],)\n",
    "\n",
    "address must be in this format (street, city, state, zip)\n",
    "\n",
    "make sure that the dict lists are in the same order. If a value is not present then put 'none' in its place.\n",
    "\n",
    "Here is the email: {email}\n",
    "\n",
    "\"\"\"\n",
    "\n",
    "prompt"
   ]
  },
  {
   "cell_type": "code",
   "execution_count": null,
   "metadata": {},
   "outputs": [],
   "source": [
    "results = ask_gpt(prompt)"
   ]
  },
  {
   "cell_type": "code",
   "execution_count": null,
   "metadata": {},
   "outputs": [
    {
     "name": "stdout",
     "output_type": "stream",
     "text": [
      "dict(first_name=['Eryka', 'Edward', 'Sharinna', 'Carolyn'], last_name=['Estrada', 'Bermudez', 'Luna', 'Alcantara'], phone=['(212) 508-6727', '(212) 216-1192', 'none', 'none'], email=['estrada@thsh.com', 'ebermudez@surepoint.com', 'sluna@tarterkrinsky.com', 'calcantara@tarterkrinsky.com'], company=['Tannenbaum Helpern Syracuse & Hirschtritt LLP', 'SurePoint', 'Tarter Krinsky & Drogin', 'Tarter Krinsky & Drogin'], job_title=['Accounting Manager', 'Product Manager', 'Controller', 'none'], address=['900 Third Avenue | New York, NY 10022', 'none', '1350 Broadway | New York | NY | 10018', '1350 Broadway | New York | NY | 10018'], website=['www.thsh.com', 'none', 'www.tarterkrinsky.com', 'www\n"
     ]
    }
   ],
   "source": [
    "print(results)"
   ]
  },
  {
   "cell_type": "code",
   "execution_count": null,
   "metadata": {},
   "outputs": [],
   "source": []
  }
 ],
 "metadata": {
  "kernelspec": {
   "display_name": "Python 3",
   "language": "python",
   "name": "python3"
  },
  "language_info": {
   "codemirror_mode": {
    "name": "ipython",
    "version": 3
   },
   "file_extension": ".py",
   "mimetype": "text/x-python",
   "name": "python",
   "nbconvert_exporter": "python",
   "pygments_lexer": "ipython3",
   "version": "3.8.9"
  },
  "orig_nbformat": 4
 },
 "nbformat": 4,
 "nbformat_minor": 2
}
